{
 "cells": [
  {
   "cell_type": "code",
   "execution_count": 7,
   "metadata": {},
   "outputs": [],
   "source": [
    "import pandas as pd\n",
    "import jieba\n",
    "import os\n",
    "import pyLDAvis\n",
    "import pyLDAvis.lda_model\n",
    "from sklearn.feature_extraction.text import TfidfVectorizer,CountVectorizer\n",
    "from sklearn.decomposition import LatentDirichletAllocation\n",
    "\n",
    "# pip install scikit-learn==0.20.0\n",
    "# conda install -c conda-forge pyldavis\n",
    "# https://stackoverflow.com/questions/76836793/jupyter-notebook-cannot-import-pyldavis-sklearn\n",
    "\n"
   ]
  },
  {
   "cell_type": "code",
   "execution_count": 16,
   "metadata": {},
   "outputs": [
    {
     "data": {
      "text/html": [
       "<div>\n",
       "<style scoped>\n",
       "    .dataframe tbody tr th:only-of-type {\n",
       "        vertical-align: middle;\n",
       "    }\n",
       "\n",
       "    .dataframe tbody tr th {\n",
       "        vertical-align: top;\n",
       "    }\n",
       "\n",
       "    .dataframe thead th {\n",
       "        text-align: right;\n",
       "    }\n",
       "</style>\n",
       "<table border=\"1\" class=\"dataframe\">\n",
       "  <thead>\n",
       "    <tr style=\"text-align: right;\">\n",
       "      <th></th>\n",
       "      <th>行业大类编码</th>\n",
       "      <th>行业大类名称</th>\n",
       "      <th>省份编码</th>\n",
       "      <th>省份名称</th>\n",
       "      <th>企业id</th>\n",
       "      <th>统一社会信用diamante</th>\n",
       "      <th>公开号</th>\n",
       "      <th>公开日期</th>\n",
       "      <th>申请号</th>\n",
       "      <th>专利类型</th>\n",
       "      <th>专利类型代码</th>\n",
       "      <th>申请日期</th>\n",
       "      <th>专利名称</th>\n",
       "      <th>主分类号</th>\n",
       "      <th>分类号</th>\n",
       "      <th>申请人</th>\n",
       "      <th>发明人</th>\n",
       "      <th>代理机构</th>\n",
       "      <th>代理人</th>\n",
       "      <th>摘要</th>\n",
       "    </tr>\n",
       "  </thead>\n",
       "  <tbody>\n",
       "    <tr>\n",
       "      <th>0</th>\n",
       "      <td>big_industry_code</td>\n",
       "      <td>big_industry_name</td>\n",
       "      <td>province_code</td>\n",
       "      <td>province_name</td>\n",
       "      <td>company_id</td>\n",
       "      <td>company_credit_code</td>\n",
       "      <td>publication_no</td>\n",
       "      <td>publication_date</td>\n",
       "      <td>apply_no</td>\n",
       "      <td>patent_type</td>\n",
       "      <td>patent_type_code</td>\n",
       "      <td>apply_date</td>\n",
       "      <td>patent_name</td>\n",
       "      <td>main_classification_no</td>\n",
       "      <td>classification_no</td>\n",
       "      <td>applicant</td>\n",
       "      <td>inventor_ame</td>\n",
       "      <td>agency_org</td>\n",
       "      <td>agency_name</td>\n",
       "      <td>abstract</td>\n",
       "    </tr>\n",
       "    <tr>\n",
       "      <th>1</th>\n",
       "      <td>06</td>\n",
       "      <td>煤炭开采和洗选业</td>\n",
       "      <td>110000</td>\n",
       "      <td>北京市</td>\n",
       "      <td>CAICT_COM_100006_C2A9FF4B9A889A4B168E99F8EB845B2E</td>\n",
       "      <td>9111000010000085X6</td>\n",
       "      <td>CN116687362A</td>\n",
       "      <td>2023-09-05</td>\n",
       "      <td>CN202310711693.4</td>\n",
       "      <td>发明专利</td>\n",
       "      <td>11</td>\n",
       "      <td>2023-06-15</td>\n",
       "      <td>一种岗前健康快速筛查系统及方法</td>\n",
       "      <td>A61B5/0205</td>\n",
       "      <td>A61B5/0205;A61B5/16;A61B5/00</td>\n",
       "      <td>中国中煤能源集团有限公司</td>\n",
       "      <td>周亚东;周应江;闫建华;王云泉;薛泽宇;赵学江;杨轲;赵玉宝;郭超荣;陈洪林;杜大文;葛庆岗...</td>\n",
       "      <td>北京集佳知识产权代理有限公司</td>\n",
       "      <td>张雪娇</td>\n",
       "      <td>本申请提供一种岗前健康快速筛查系统及方法，方法包括：显示健康快速筛查界面；其中，健康快速筛查...</td>\n",
       "    </tr>\n",
       "    <tr>\n",
       "      <th>2</th>\n",
       "      <td>06</td>\n",
       "      <td>煤炭开采和洗选业</td>\n",
       "      <td>110000</td>\n",
       "      <td>北京市</td>\n",
       "      <td>CAICT_COM_100006_2D1489FA41B9846088A9C422C03CC68D</td>\n",
       "      <td>91110000592360113C</td>\n",
       "      <td>CN116699688A</td>\n",
       "      <td>2023-09-05</td>\n",
       "      <td>CN202211731131.8</td>\n",
       "      <td>发明专利</td>\n",
       "      <td>11</td>\n",
       "      <td>2022-12-30</td>\n",
       "      <td>一种走滑断层识别方法及系统</td>\n",
       "      <td>G01V1/30</td>\n",
       "      <td>G01V1/30;G01V1/28</td>\n",
       "      <td>华能煤业有限公司</td>\n",
       "      <td>袁浩伟;荆铁亚;刘练波;周娟;赵文韬;张健;朱明宇;尹玉龙;李义朝;高文</td>\n",
       "      <td>西安通大专利代理有限责任公司</td>\n",
       "      <td>贺小停</td>\n",
       "      <td>本申请提供的一种走滑断层识别方法及系统，利用三维地震资料、构造图等资料，获得待测断层倾角以及...</td>\n",
       "    </tr>\n",
       "    <tr>\n",
       "      <th>3</th>\n",
       "      <td>06</td>\n",
       "      <td>煤炭开采和洗选业</td>\n",
       "      <td>110000</td>\n",
       "      <td>北京市</td>\n",
       "      <td>CAICT_COM_100006_C2A9FF4B9A889A4B168E99F8EB845B2E</td>\n",
       "      <td>9111000010000085X6</td>\n",
       "      <td>CN116596320A</td>\n",
       "      <td>2023-08-15</td>\n",
       "      <td>CN202310835476.6</td>\n",
       "      <td>发明专利</td>\n",
       "      <td>11</td>\n",
       "      <td>2023-07-10</td>\n",
       "      <td>一种煤矿作业人员的风险评估方法及系统</td>\n",
       "      <td>G06Q10/0635</td>\n",
       "      <td>G06Q10/0635;G16H50/30;G06Q50/02</td>\n",
       "      <td>中国中煤能源集团有限公司</td>\n",
       "      <td>周亚东;周应江;闫建华;王云泉;薛泽宇;赵学江;杨轲;赵玉宝;郭超荣;陈洪林;杜大文;葛庆岗...</td>\n",
       "      <td>北京集佳知识产权代理有限公司</td>\n",
       "      <td>张雪娇</td>\n",
       "      <td>本发明提供一种煤矿作业人员的风险评估方法及系统，通过获取待评估煤矿作业人员的生理参数和心理参...</td>\n",
       "    </tr>\n",
       "    <tr>\n",
       "      <th>4</th>\n",
       "      <td>06</td>\n",
       "      <td>煤炭开采和洗选业</td>\n",
       "      <td>110000</td>\n",
       "      <td>北京市</td>\n",
       "      <td>CAICT_COM_100006_2D1489FA41B9846088A9C422C03CC68D</td>\n",
       "      <td>91110000592360113C</td>\n",
       "      <td>CN116517586A</td>\n",
       "      <td>2023-08-01</td>\n",
       "      <td>CN202310441710.7</td>\n",
       "      <td>发明专利</td>\n",
       "      <td>11</td>\n",
       "      <td>2023-04-23</td>\n",
       "      <td>一种深井巷道防冲击地压支护装置</td>\n",
       "      <td>E21D11/10</td>\n",
       "      <td>E21D11/10;E21D11/00;E21D21/00;E21D20/02</td>\n",
       "      <td>华能煤业有限公司</td>\n",
       "      <td>汪占领;杜金洲;王志超;杨云斌;程利兴;赵亮;王港盛;高健勋;石蒙;李汉汉;郭罡业;肖运智;...</td>\n",
       "      <td>郑州科硕专利代理事务所(普通合伙)</td>\n",
       "      <td>范增哲</td>\n",
       "      <td>本发明公开了一种深井巷道防冲击地压支护装置，本发明涉及深井巷道支护技术领域，包括防变形机构，...</td>\n",
       "    </tr>\n",
       "  </tbody>\n",
       "</table>\n",
       "</div>"
      ],
      "text/plain": [
       "              行业大类编码             行业大类名称           省份编码           省份名称  \\\n",
       "0  big_industry_code  big_industry_name  province_code  province_name   \n",
       "1                 06           煤炭开采和洗选业         110000            北京市   \n",
       "2                 06           煤炭开采和洗选业         110000            北京市   \n",
       "3                 06           煤炭开采和洗选业         110000            北京市   \n",
       "4                 06           煤炭开采和洗选业         110000            北京市   \n",
       "\n",
       "                                                企业id       统一社会信用diamante  \\\n",
       "0                                         company_id  company_credit_code   \n",
       "1  CAICT_COM_100006_C2A9FF4B9A889A4B168E99F8EB845B2E   9111000010000085X6   \n",
       "2  CAICT_COM_100006_2D1489FA41B9846088A9C422C03CC68D   91110000592360113C   \n",
       "3  CAICT_COM_100006_C2A9FF4B9A889A4B168E99F8EB845B2E   9111000010000085X6   \n",
       "4  CAICT_COM_100006_2D1489FA41B9846088A9C422C03CC68D   91110000592360113C   \n",
       "\n",
       "              公开号              公开日期               申请号         专利类型  \\\n",
       "0  publication_no  publication_date          apply_no  patent_type   \n",
       "1    CN116687362A        2023-09-05  CN202310711693.4         发明专利   \n",
       "2    CN116699688A        2023-09-05  CN202211731131.8         发明专利   \n",
       "3    CN116596320A        2023-08-15  CN202310835476.6         发明专利   \n",
       "4    CN116517586A        2023-08-01  CN202310441710.7         发明专利   \n",
       "\n",
       "             专利类型代码        申请日期                专利名称                    主分类号  \\\n",
       "0  patent_type_code  apply_date         patent_name  main_classification_no   \n",
       "1                11  2023-06-15     一种岗前健康快速筛查系统及方法              A61B5/0205   \n",
       "2                11  2022-12-30       一种走滑断层识别方法及系统                G01V1/30   \n",
       "3                11  2023-07-10  一种煤矿作业人员的风险评估方法及系统             G06Q10/0635   \n",
       "4                11  2023-04-23     一种深井巷道防冲击地压支护装置               E21D11/10   \n",
       "\n",
       "                                       分类号           申请人  \\\n",
       "0                        classification_no     applicant   \n",
       "1             A61B5/0205;A61B5/16;A61B5/00  中国中煤能源集团有限公司   \n",
       "2                        G01V1/30;G01V1/28      华能煤业有限公司   \n",
       "3          G06Q10/0635;G16H50/30;G06Q50/02  中国中煤能源集团有限公司   \n",
       "4  E21D11/10;E21D11/00;E21D21/00;E21D20/02      华能煤业有限公司   \n",
       "\n",
       "                                                 发明人               代理机构  \\\n",
       "0                                       inventor_ame         agency_org   \n",
       "1  周亚东;周应江;闫建华;王云泉;薛泽宇;赵学江;杨轲;赵玉宝;郭超荣;陈洪林;杜大文;葛庆岗...     北京集佳知识产权代理有限公司   \n",
       "2               袁浩伟;荆铁亚;刘练波;周娟;赵文韬;张健;朱明宇;尹玉龙;李义朝;高文     西安通大专利代理有限责任公司   \n",
       "3  周亚东;周应江;闫建华;王云泉;薛泽宇;赵学江;杨轲;赵玉宝;郭超荣;陈洪林;杜大文;葛庆岗...     北京集佳知识产权代理有限公司   \n",
       "4  汪占领;杜金洲;王志超;杨云斌;程利兴;赵亮;王港盛;高健勋;石蒙;李汉汉;郭罡业;肖运智;...  郑州科硕专利代理事务所(普通合伙)   \n",
       "\n",
       "           代理人                                                 摘要  \n",
       "0  agency_name                                           abstract  \n",
       "1          张雪娇  本申请提供一种岗前健康快速筛查系统及方法，方法包括：显示健康快速筛查界面；其中，健康快速筛查...  \n",
       "2          贺小停  本申请提供的一种走滑断层识别方法及系统，利用三维地震资料、构造图等资料，获得待测断层倾角以及...  \n",
       "3          张雪娇  本发明提供一种煤矿作业人员的风险评估方法及系统，通过获取待评估煤矿作业人员的生理参数和心理参...  \n",
       "4          范增哲  本发明公开了一种深井巷道防冲击地压支护装置，本发明涉及深井巷道支护技术领域，包括防变形机构，...  "
      ]
     },
     "execution_count": 16,
     "metadata": {},
     "output_type": "execute_result"
    }
   ],
   "source": [
    "current_path = os.getcwd()  \n",
    "base_path = os.path.dirname(current_path) \n",
    "cn_stopwords=os.path.join(base_path, \"data/cn_stopwords.txt\")\n",
    "csv_path = os.path.join(base_path, \"data/专利demo.xlsx\")\n",
    "df = pd.read_excel(csv_path, engine='openpyxl')\n",
    "df.head()"
   ]
  },
  {
   "cell_type": "code",
   "execution_count": 9,
   "metadata": {},
   "outputs": [
    {
     "data": {
      "text/plain": [
       "(26535, 20)"
      ]
     },
     "execution_count": 9,
     "metadata": {},
     "output_type": "execute_result"
    }
   ],
   "source": [
    "df.shape"
   ]
  },
  {
   "cell_type": "code",
   "execution_count": 10,
   "metadata": {},
   "outputs": [],
   "source": [
    "def chinese_word_cut(mytext):\n",
    "    return \" \".join(jieba.cut(mytext))"
   ]
  },
  {
   "cell_type": "markdown",
   "metadata": {},
   "source": [
    "批量处理数据框里面的全部文本（正文）信息了"
   ]
  },
  {
   "cell_type": "code",
   "execution_count": 11,
   "metadata": {},
   "outputs": [
    {
     "name": "stderr",
     "output_type": "stream",
     "text": [
      "Building prefix dict from the default dictionary ...\n",
      "Loading model from cache /var/folders/4m/3yfnhmtx0vx1d01xd38_4r5r0000gn/T/jieba.cache\n",
      "Loading model cost 0.288 seconds.\n",
      "Prefix dict has been built successfully.\n"
     ]
    }
   ],
   "source": [
    "df[\"summary_cutted\"] = df[\"摘要\"].apply(chinese_word_cut)"
   ]
  },
  {
   "cell_type": "code",
   "execution_count": 12,
   "metadata": {},
   "outputs": [
    {
     "data": {
      "text/plain": [
       "0                                             abstract\n",
       "1    本 申请 提供 一种 岗前 健康 快速 筛查 系统 及 方法 ， 方法 包括 ： 显示 健康...\n",
       "2    本 申请 提供 的 一种 走 滑 断层 识别方法 及 系统 ， 利用 三维 地震 资料 、 ...\n",
       "3    本发明 提供 一种 煤矿 作业 人员 的 风险 评估 方法 及 系统 ， 通过 获取 待 评...\n",
       "4    本发明 公开 了 一种 深井 巷道 防 冲击 地压 支护 装置 ， 本发明 涉及 深井 巷道...\n",
       "Name: summary_cutted, dtype: object"
      ]
     },
     "execution_count": 12,
     "metadata": {},
     "output_type": "execute_result"
    }
   ],
   "source": [
    "df.summary_cutted.head()"
   ]
  },
  {
   "cell_type": "markdown",
   "metadata": {},
   "source": [
    "加载中文停用词表"
   ]
  },
  {
   "cell_type": "code",
   "execution_count": 17,
   "metadata": {},
   "outputs": [],
   "source": [
    "# 读取停用词文本文件  \n",
    "with open(cn_stopwords, 'r', encoding='utf-8') as f:  \n",
    "    stop_words = [line.strip() for line in f.readlines()]\n"
   ]
  },
  {
   "cell_type": "markdown",
   "metadata": {},
   "source": [
    "我们不希望处理所有词汇。因为一来处理时间太长，二来那些很不常用的词汇对我们的主题抽取意义不大。所以这里做了个限定，只从文本中提取1000个最重要的特征关键词，然后停止。开始关键词提取和向量转换过程：先设定为5个分类。"
   ]
  },
  {
   "cell_type": "code",
   "execution_count": 18,
   "metadata": {},
   "outputs": [
    {
     "ename": "AttributeError",
     "evalue": "'DataFrame' object has no attribute 'summary_cutted'",
     "output_type": "error",
     "traceback": [
      "\u001b[0;31m---------------------------------------------------------------------------\u001b[0m",
      "\u001b[0;31mAttributeError\u001b[0m                            Traceback (most recent call last)",
      "\u001b[0;32m/var/folders/4m/3yfnhmtx0vx1d01xd38_4r5r0000gn/T/ipykernel_3327/1755219592.py\u001b[0m in \u001b[0;36m?\u001b[0;34m()\u001b[0m\n\u001b[0;32m----> 7\u001b[0;31m \u001b[0mn_features\u001b[0m \u001b[0;34m=\u001b[0m \u001b[0;36m1000\u001b[0m\u001b[0;34m\u001b[0m\u001b[0;34m\u001b[0m\u001b[0m\n\u001b[0m\u001b[1;32m      8\u001b[0m tf_vectorizer = CountVectorizer(strip_accents = 'unicode',\n\u001b[1;32m      9\u001b[0m                                 \u001b[0mmax_features\u001b[0m\u001b[0;34m=\u001b[0m\u001b[0mn_features\u001b[0m\u001b[0;34m,\u001b[0m\u001b[0;34m\u001b[0m\u001b[0;34m\u001b[0m\u001b[0m\n\u001b[1;32m     10\u001b[0m                                 \u001b[0mstop_words\u001b[0m\u001b[0;34m=\u001b[0m\u001b[0;34m'stop_words'\u001b[0m\u001b[0;34m,\u001b[0m\u001b[0;34m\u001b[0m\u001b[0;34m\u001b[0m\u001b[0m\n",
      "\u001b[0;32m~/miniconda3/envs/py39indus/lib/python3.9/site-packages/pandas/core/generic.py\u001b[0m in \u001b[0;36m?\u001b[0;34m(self, name)\u001b[0m\n\u001b[1;32m   6200\u001b[0m             \u001b[0;32mand\u001b[0m \u001b[0mname\u001b[0m \u001b[0;32mnot\u001b[0m \u001b[0;32min\u001b[0m \u001b[0mself\u001b[0m\u001b[0;34m.\u001b[0m\u001b[0m_accessors\u001b[0m\u001b[0;34m\u001b[0m\u001b[0;34m\u001b[0m\u001b[0m\n\u001b[1;32m   6201\u001b[0m             \u001b[0;32mand\u001b[0m \u001b[0mself\u001b[0m\u001b[0;34m.\u001b[0m\u001b[0m_info_axis\u001b[0m\u001b[0;34m.\u001b[0m\u001b[0m_can_hold_identifiers_and_holds_name\u001b[0m\u001b[0;34m(\u001b[0m\u001b[0mname\u001b[0m\u001b[0;34m)\u001b[0m\u001b[0;34m\u001b[0m\u001b[0;34m\u001b[0m\u001b[0m\n\u001b[1;32m   6202\u001b[0m         ):\n\u001b[1;32m   6203\u001b[0m             \u001b[0;32mreturn\u001b[0m \u001b[0mself\u001b[0m\u001b[0;34m[\u001b[0m\u001b[0mname\u001b[0m\u001b[0;34m]\u001b[0m\u001b[0;34m\u001b[0m\u001b[0;34m\u001b[0m\u001b[0m\n\u001b[0;32m-> 6204\u001b[0;31m         \u001b[0;32mreturn\u001b[0m \u001b[0mobject\u001b[0m\u001b[0;34m.\u001b[0m\u001b[0m__getattribute__\u001b[0m\u001b[0;34m(\u001b[0m\u001b[0mself\u001b[0m\u001b[0;34m,\u001b[0m \u001b[0mname\u001b[0m\u001b[0;34m)\u001b[0m\u001b[0;34m\u001b[0m\u001b[0;34m\u001b[0m\u001b[0m\n\u001b[0m",
      "\u001b[0;31mAttributeError\u001b[0m: 'DataFrame' object has no attribute 'summary_cutted'"
     ]
    }
   ],
   "source": [
    "n_features = 1000\n",
    "tf_vectorizer = CountVectorizer(strip_accents = 'unicode',\n",
    "                                max_features=n_features,\n",
    "                                stop_words=stop_words,\n",
    "                                max_df = 0.5,\n",
    "                                min_df = 10)\n",
    "tf = tf_vectorizer.fit_transform(df.summary_cutted)"
   ]
  },
  {
   "cell_type": "code",
   "execution_count": null,
   "metadata": {},
   "outputs": [],
   "source": [
    "n_topics = 10\n",
    "lda = LatentDirichletAllocation(n_components=n_topics, max_iter=50,\n",
    "                                learning_method='online',\n",
    "                                learning_offset=50.,\n",
    "                                random_state=0)"
   ]
  },
  {
   "cell_type": "code",
   "execution_count": null,
   "metadata": {},
   "outputs": [],
   "source": [
    "lda.fit(tf)"
   ]
  },
  {
   "cell_type": "code",
   "execution_count": null,
   "metadata": {},
   "outputs": [],
   "source": [
    "def print_top_words(model, feature_names, n_top_words):\n",
    "    for topic_idx, topic in enumerate(model.components_):\n",
    "        print(\"Topic #%d:\" % topic_idx)\n",
    "        print(\" \".join([feature_names[i]\n",
    "                        for i in topic.argsort()[:-n_top_words - 1:-1]]))\n",
    "    print()"
   ]
  },
  {
   "cell_type": "code",
   "execution_count": null,
   "metadata": {},
   "outputs": [],
   "source": [
    "n_top_words = 20  \n",
    "tf_feature_names = tf_vectorizer.get_feature_names_out()\n",
    "# tf_feature_names = tf_vectorizer.get_feature_names_out() 新版本sklern\n",
    "print_top_words(lda, tf_feature_names, n_top_words)"
   ]
  },
  {
   "cell_type": "markdown",
   "metadata": {},
   "source": []
  },
  {
   "cell_type": "markdown",
   "metadata": {},
   "source": [
    "# 可视化\n",
    "# 如果你看完了图后，需要继续程序，就回到原先的标签页，点击Kernel菜单下的第一项Interrupt停止绘图，然后往下运行新的语句。\n",
    "\n",
    "# 图的左侧，用圆圈代表不同的主题，圆圈的大小代表了每个主题分别包含文章的数量。\n",
    "\n",
    "# 图的右侧，列出了最重要（频率最高）的20个关键词列表。注意当你没有把鼠标悬停在任何主题之上的时候，这20个关键词代表全部文本中提取到的20个最重要关键词。\n",
    "\n",
    "# 如果你把鼠标悬停在1号上面：右侧的关键词列表会立即发生变化，红色展示了每个关键词在当前主题下的频率。\n",
    "\n",
    "# 以上是认为设定主题数为5的情况。"
   ]
  },
  {
   "cell_type": "code",
   "execution_count": null,
   "metadata": {},
   "outputs": [],
   "source": [
    "data = pyLDAvis.lda_model.prepare(lda, tf, tf_vectorizer)\n",
    "pyLDAvis.show(data, local=False)#local=False避免报错，会在显示器打开"
   ]
  }
 ],
 "metadata": {
  "kernelspec": {
   "display_name": "Python 3",
   "language": "python",
   "name": "python3"
  },
  "language_info": {
   "codemirror_mode": {
    "name": "ipython",
    "version": 3
   },
   "file_extension": ".py",
   "mimetype": "text/x-python",
   "name": "python",
   "nbconvert_exporter": "python",
   "pygments_lexer": "ipython3",
   "version": "3.9.17"
  }
 },
 "nbformat": 4,
 "nbformat_minor": 2
}
