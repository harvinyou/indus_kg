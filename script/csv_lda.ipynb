{
 "cells": [
  {
   "cell_type": "code",
   "execution_count": 1,
   "metadata": {},
   "outputs": [],
   "source": [
    "import pandas as pd\n",
    "import jieba\n",
    "import os\n",
    "import pyLDAvis\n",
    "import pyLDAvis.lda_model\n",
    "from sklearn.feature_extraction.text import TfidfVectorizer,CountVectorizer\n",
    "from sklearn.decomposition import LatentDirichletAllocation\n",
    "\n",
    "# 转化为python文件：jupyter nbconvert --to script csv_lda.ipynb （需pip install nbconvert）   \n",
    "# pip install scikit-learn==0.20.0\n",
    "# conda install -c conda-forge pyldavis\n",
    "# https://stackoverflow.com/questions/76836793/jupyter-notebook-cannot-import-pyldavis-sklearn\n",
    "\n"
   ]
  },
  {
   "cell_type": "code",
   "execution_count": 2,
   "metadata": {},
   "outputs": [
    {
     "data": {
      "text/html": [
       "<div>\n",
       "<style scoped>\n",
       "    .dataframe tbody tr th:only-of-type {\n",
       "        vertical-align: middle;\n",
       "    }\n",
       "\n",
       "    .dataframe tbody tr th {\n",
       "        vertical-align: top;\n",
       "    }\n",
       "\n",
       "    .dataframe thead th {\n",
       "        text-align: right;\n",
       "    }\n",
       "</style>\n",
       "<table border=\"1\" class=\"dataframe\">\n",
       "  <thead>\n",
       "    <tr style=\"text-align: right;\">\n",
       "      <th></th>\n",
       "      <th>行业大类编码</th>\n",
       "      <th>行业大类名称</th>\n",
       "      <th>省份编码</th>\n",
       "      <th>省份名称</th>\n",
       "      <th>企业id</th>\n",
       "      <th>统一社会信用diamante</th>\n",
       "      <th>公开号</th>\n",
       "      <th>公开日期</th>\n",
       "      <th>申请号</th>\n",
       "      <th>专利类型</th>\n",
       "      <th>专利类型代码</th>\n",
       "      <th>申请日期</th>\n",
       "      <th>专利名称</th>\n",
       "      <th>主分类号</th>\n",
       "      <th>分类号</th>\n",
       "      <th>申请人</th>\n",
       "      <th>发明人</th>\n",
       "      <th>代理机构</th>\n",
       "      <th>代理人</th>\n",
       "      <th>摘要</th>\n",
       "    </tr>\n",
       "  </thead>\n",
       "  <tbody>\n",
       "    <tr>\n",
       "      <th>0</th>\n",
       "      <td>big_industry_code</td>\n",
       "      <td>big_industry_name</td>\n",
       "      <td>province_code</td>\n",
       "      <td>province_name</td>\n",
       "      <td>company_id</td>\n",
       "      <td>company_credit_code</td>\n",
       "      <td>publication_no</td>\n",
       "      <td>publication_date</td>\n",
       "      <td>apply_no</td>\n",
       "      <td>patent_type</td>\n",
       "      <td>patent_type_code</td>\n",
       "      <td>apply_date</td>\n",
       "      <td>patent_name</td>\n",
       "      <td>main_classification_no</td>\n",
       "      <td>classification_no</td>\n",
       "      <td>applicant</td>\n",
       "      <td>inventor_ame</td>\n",
       "      <td>agency_org</td>\n",
       "      <td>agency_name</td>\n",
       "      <td>abstract</td>\n",
       "    </tr>\n",
       "    <tr>\n",
       "      <th>1</th>\n",
       "      <td>06</td>\n",
       "      <td>煤炭开采和洗选业</td>\n",
       "      <td>110000</td>\n",
       "      <td>北京市</td>\n",
       "      <td>CAICT_COM_100006_C2A9FF4B9A889A4B168E99F8EB845B2E</td>\n",
       "      <td>9111000010000085X6</td>\n",
       "      <td>CN116687362A</td>\n",
       "      <td>2023-09-05</td>\n",
       "      <td>CN202310711693.4</td>\n",
       "      <td>发明专利</td>\n",
       "      <td>11</td>\n",
       "      <td>2023-06-15</td>\n",
       "      <td>一种岗前健康快速筛查系统及方法</td>\n",
       "      <td>A61B5/0205</td>\n",
       "      <td>A61B5/0205;A61B5/16;A61B5/00</td>\n",
       "      <td>中国中煤能源集团有限公司</td>\n",
       "      <td>周亚东;周应江;闫建华;王云泉;薛泽宇;赵学江;杨轲;赵玉宝;郭超荣;陈洪林;杜大文;葛庆岗...</td>\n",
       "      <td>北京集佳知识产权代理有限公司</td>\n",
       "      <td>张雪娇</td>\n",
       "      <td>本申请提供一种岗前健康快速筛查系统及方法，方法包括：显示健康快速筛查界面；其中，健康快速筛查...</td>\n",
       "    </tr>\n",
       "    <tr>\n",
       "      <th>2</th>\n",
       "      <td>06</td>\n",
       "      <td>煤炭开采和洗选业</td>\n",
       "      <td>110000</td>\n",
       "      <td>北京市</td>\n",
       "      <td>CAICT_COM_100006_2D1489FA41B9846088A9C422C03CC68D</td>\n",
       "      <td>91110000592360113C</td>\n",
       "      <td>CN116699688A</td>\n",
       "      <td>2023-09-05</td>\n",
       "      <td>CN202211731131.8</td>\n",
       "      <td>发明专利</td>\n",
       "      <td>11</td>\n",
       "      <td>2022-12-30</td>\n",
       "      <td>一种走滑断层识别方法及系统</td>\n",
       "      <td>G01V1/30</td>\n",
       "      <td>G01V1/30;G01V1/28</td>\n",
       "      <td>华能煤业有限公司</td>\n",
       "      <td>袁浩伟;荆铁亚;刘练波;周娟;赵文韬;张健;朱明宇;尹玉龙;李义朝;高文</td>\n",
       "      <td>西安通大专利代理有限责任公司</td>\n",
       "      <td>贺小停</td>\n",
       "      <td>本申请提供的一种走滑断层识别方法及系统，利用三维地震资料、构造图等资料，获得待测断层倾角以及...</td>\n",
       "    </tr>\n",
       "    <tr>\n",
       "      <th>3</th>\n",
       "      <td>06</td>\n",
       "      <td>煤炭开采和洗选业</td>\n",
       "      <td>110000</td>\n",
       "      <td>北京市</td>\n",
       "      <td>CAICT_COM_100006_C2A9FF4B9A889A4B168E99F8EB845B2E</td>\n",
       "      <td>9111000010000085X6</td>\n",
       "      <td>CN116596320A</td>\n",
       "      <td>2023-08-15</td>\n",
       "      <td>CN202310835476.6</td>\n",
       "      <td>发明专利</td>\n",
       "      <td>11</td>\n",
       "      <td>2023-07-10</td>\n",
       "      <td>一种煤矿作业人员的风险评估方法及系统</td>\n",
       "      <td>G06Q10/0635</td>\n",
       "      <td>G06Q10/0635;G16H50/30;G06Q50/02</td>\n",
       "      <td>中国中煤能源集团有限公司</td>\n",
       "      <td>周亚东;周应江;闫建华;王云泉;薛泽宇;赵学江;杨轲;赵玉宝;郭超荣;陈洪林;杜大文;葛庆岗...</td>\n",
       "      <td>北京集佳知识产权代理有限公司</td>\n",
       "      <td>张雪娇</td>\n",
       "      <td>本发明提供一种煤矿作业人员的风险评估方法及系统，通过获取待评估煤矿作业人员的生理参数和心理参...</td>\n",
       "    </tr>\n",
       "    <tr>\n",
       "      <th>4</th>\n",
       "      <td>06</td>\n",
       "      <td>煤炭开采和洗选业</td>\n",
       "      <td>110000</td>\n",
       "      <td>北京市</td>\n",
       "      <td>CAICT_COM_100006_2D1489FA41B9846088A9C422C03CC68D</td>\n",
       "      <td>91110000592360113C</td>\n",
       "      <td>CN116517586A</td>\n",
       "      <td>2023-08-01</td>\n",
       "      <td>CN202310441710.7</td>\n",
       "      <td>发明专利</td>\n",
       "      <td>11</td>\n",
       "      <td>2023-04-23</td>\n",
       "      <td>一种深井巷道防冲击地压支护装置</td>\n",
       "      <td>E21D11/10</td>\n",
       "      <td>E21D11/10;E21D11/00;E21D21/00;E21D20/02</td>\n",
       "      <td>华能煤业有限公司</td>\n",
       "      <td>汪占领;杜金洲;王志超;杨云斌;程利兴;赵亮;王港盛;高健勋;石蒙;李汉汉;郭罡业;肖运智;...</td>\n",
       "      <td>郑州科硕专利代理事务所(普通合伙)</td>\n",
       "      <td>范增哲</td>\n",
       "      <td>本发明公开了一种深井巷道防冲击地压支护装置，本发明涉及深井巷道支护技术领域，包括防变形机构，...</td>\n",
       "    </tr>\n",
       "  </tbody>\n",
       "</table>\n",
       "</div>"
      ],
      "text/plain": [
       "              行业大类编码             行业大类名称           省份编码           省份名称  \\\n",
       "0  big_industry_code  big_industry_name  province_code  province_name   \n",
       "1                 06           煤炭开采和洗选业         110000            北京市   \n",
       "2                 06           煤炭开采和洗选业         110000            北京市   \n",
       "3                 06           煤炭开采和洗选业         110000            北京市   \n",
       "4                 06           煤炭开采和洗选业         110000            北京市   \n",
       "\n",
       "                                                企业id       统一社会信用diamante  \\\n",
       "0                                         company_id  company_credit_code   \n",
       "1  CAICT_COM_100006_C2A9FF4B9A889A4B168E99F8EB845B2E   9111000010000085X6   \n",
       "2  CAICT_COM_100006_2D1489FA41B9846088A9C422C03CC68D   91110000592360113C   \n",
       "3  CAICT_COM_100006_C2A9FF4B9A889A4B168E99F8EB845B2E   9111000010000085X6   \n",
       "4  CAICT_COM_100006_2D1489FA41B9846088A9C422C03CC68D   91110000592360113C   \n",
       "\n",
       "              公开号              公开日期               申请号         专利类型  \\\n",
       "0  publication_no  publication_date          apply_no  patent_type   \n",
       "1    CN116687362A        2023-09-05  CN202310711693.4         发明专利   \n",
       "2    CN116699688A        2023-09-05  CN202211731131.8         发明专利   \n",
       "3    CN116596320A        2023-08-15  CN202310835476.6         发明专利   \n",
       "4    CN116517586A        2023-08-01  CN202310441710.7         发明专利   \n",
       "\n",
       "             专利类型代码        申请日期                专利名称                    主分类号  \\\n",
       "0  patent_type_code  apply_date         patent_name  main_classification_no   \n",
       "1                11  2023-06-15     一种岗前健康快速筛查系统及方法              A61B5/0205   \n",
       "2                11  2022-12-30       一种走滑断层识别方法及系统                G01V1/30   \n",
       "3                11  2023-07-10  一种煤矿作业人员的风险评估方法及系统             G06Q10/0635   \n",
       "4                11  2023-04-23     一种深井巷道防冲击地压支护装置               E21D11/10   \n",
       "\n",
       "                                       分类号           申请人  \\\n",
       "0                        classification_no     applicant   \n",
       "1             A61B5/0205;A61B5/16;A61B5/00  中国中煤能源集团有限公司   \n",
       "2                        G01V1/30;G01V1/28      华能煤业有限公司   \n",
       "3          G06Q10/0635;G16H50/30;G06Q50/02  中国中煤能源集团有限公司   \n",
       "4  E21D11/10;E21D11/00;E21D21/00;E21D20/02      华能煤业有限公司   \n",
       "\n",
       "                                                 发明人               代理机构  \\\n",
       "0                                       inventor_ame         agency_org   \n",
       "1  周亚东;周应江;闫建华;王云泉;薛泽宇;赵学江;杨轲;赵玉宝;郭超荣;陈洪林;杜大文;葛庆岗...     北京集佳知识产权代理有限公司   \n",
       "2               袁浩伟;荆铁亚;刘练波;周娟;赵文韬;张健;朱明宇;尹玉龙;李义朝;高文     西安通大专利代理有限责任公司   \n",
       "3  周亚东;周应江;闫建华;王云泉;薛泽宇;赵学江;杨轲;赵玉宝;郭超荣;陈洪林;杜大文;葛庆岗...     北京集佳知识产权代理有限公司   \n",
       "4  汪占领;杜金洲;王志超;杨云斌;程利兴;赵亮;王港盛;高健勋;石蒙;李汉汉;郭罡业;肖运智;...  郑州科硕专利代理事务所(普通合伙)   \n",
       "\n",
       "           代理人                                                 摘要  \n",
       "0  agency_name                                           abstract  \n",
       "1          张雪娇  本申请提供一种岗前健康快速筛查系统及方法，方法包括：显示健康快速筛查界面；其中，健康快速筛查...  \n",
       "2          贺小停  本申请提供的一种走滑断层识别方法及系统，利用三维地震资料、构造图等资料，获得待测断层倾角以及...  \n",
       "3          张雪娇  本发明提供一种煤矿作业人员的风险评估方法及系统，通过获取待评估煤矿作业人员的生理参数和心理参...  \n",
       "4          范增哲  本发明公开了一种深井巷道防冲击地压支护装置，本发明涉及深井巷道支护技术领域，包括防变形机构，...  "
      ]
     },
     "execution_count": 2,
     "metadata": {},
     "output_type": "execute_result"
    }
   ],
   "source": [
    "current_path = os.getcwd()  \n",
    "base_path = os.path.dirname(current_path) \n",
    "cn_stopwords=os.path.join(base_path, \"data/cn_stopwords.txt\")\n",
    "csv_path = os.path.join(base_path, \"data/专利demo.xlsx\")\n",
    "df = pd.read_excel(csv_path, engine='openpyxl')\n",
    "df.head()"
   ]
  },
  {
   "cell_type": "code",
   "execution_count": 3,
   "metadata": {},
   "outputs": [
    {
     "data": {
      "text/plain": [
       "(26535, 20)"
      ]
     },
     "execution_count": 3,
     "metadata": {},
     "output_type": "execute_result"
    }
   ],
   "source": [
    "df.shape"
   ]
  },
  {
   "cell_type": "code",
   "execution_count": 4,
   "metadata": {},
   "outputs": [],
   "source": [
    "def chinese_word_cut(mytext):\n",
    "    return \" \".join(jieba.cut(mytext))"
   ]
  },
  {
   "cell_type": "markdown",
   "metadata": {},
   "source": [
    "批量处理数据框里面的全部文本（正文）信息了"
   ]
  },
  {
   "cell_type": "code",
   "execution_count": 5,
   "metadata": {},
   "outputs": [
    {
     "name": "stderr",
     "output_type": "stream",
     "text": [
      "Building prefix dict from the default dictionary ...\n",
      "Loading model from cache /var/folders/4m/3yfnhmtx0vx1d01xd38_4r5r0000gn/T/jieba.cache\n",
      "Loading model cost 0.286 seconds.\n",
      "Prefix dict has been built successfully.\n"
     ]
    }
   ],
   "source": [
    "df[\"summary_cutted\"] = df[\"摘要\"].apply(chinese_word_cut)"
   ]
  },
  {
   "cell_type": "code",
   "execution_count": 6,
   "metadata": {},
   "outputs": [
    {
     "data": {
      "text/plain": [
       "0                                             abstract\n",
       "1    本 申请 提供 一种 岗前 健康 快速 筛查 系统 及 方法 ， 方法 包括 ： 显示 健康...\n",
       "2    本 申请 提供 的 一种 走 滑 断层 识别方法 及 系统 ， 利用 三维 地震 资料 、 ...\n",
       "3    本发明 提供 一种 煤矿 作业 人员 的 风险 评估 方法 及 系统 ， 通过 获取 待 评...\n",
       "4    本发明 公开 了 一种 深井 巷道 防 冲击 地压 支护 装置 ， 本发明 涉及 深井 巷道...\n",
       "Name: summary_cutted, dtype: object"
      ]
     },
     "execution_count": 6,
     "metadata": {},
     "output_type": "execute_result"
    }
   ],
   "source": [
    "df.summary_cutted.head()"
   ]
  },
  {
   "cell_type": "markdown",
   "metadata": {},
   "source": [
    "加载中文停用词表"
   ]
  },
  {
   "cell_type": "code",
   "execution_count": 7,
   "metadata": {},
   "outputs": [],
   "source": [
    "# 读取停用词文本文件  \n",
    "with open(cn_stopwords, 'r', encoding='utf-8') as f:  \n",
    "    stop_words = [line.strip() for line in f.readlines()]\n"
   ]
  },
  {
   "cell_type": "markdown",
   "metadata": {},
   "source": [
    "我们不希望处理所有词汇。因为一来处理时间太长，二来那些很不常用的词汇对我们的主题抽取意义不大。所以这里做了个限定，只从文本中提取1000个最重要的特征关键词，然后停止。开始关键词提取和向量转换过程：先设定为5个分类。"
   ]
  },
  {
   "cell_type": "code",
   "execution_count": 8,
   "metadata": {},
   "outputs": [],
   "source": [
    "n_features = 1000\n",
    "tf_vectorizer = CountVectorizer(strip_accents = 'unicode',\n",
    "                                max_features=n_features,\n",
    "                                stop_words=stop_words,\n",
    "                                max_df = 0.5,\n",
    "                                min_df = 10)\n",
    "tf = tf_vectorizer.fit_transform(df.summary_cutted)"
   ]
  },
  {
   "cell_type": "code",
   "execution_count": 9,
   "metadata": {},
   "outputs": [],
   "source": [
    "n_topics = 10\n",
    "lda = LatentDirichletAllocation(n_components=n_topics, max_iter=50,\n",
    "                                learning_method='online',\n",
    "                                learning_offset=50.,\n",
    "                                random_state=0)"
   ]
  },
  {
   "cell_type": "code",
   "execution_count": 10,
   "metadata": {},
   "outputs": [
    {
     "data": {
      "text/html": [
       "<style>#sk-container-id-1 {color: black;}#sk-container-id-1 pre{padding: 0;}#sk-container-id-1 div.sk-toggleable {background-color: white;}#sk-container-id-1 label.sk-toggleable__label {cursor: pointer;display: block;width: 100%;margin-bottom: 0;padding: 0.3em;box-sizing: border-box;text-align: center;}#sk-container-id-1 label.sk-toggleable__label-arrow:before {content: \"▸\";float: left;margin-right: 0.25em;color: #696969;}#sk-container-id-1 label.sk-toggleable__label-arrow:hover:before {color: black;}#sk-container-id-1 div.sk-estimator:hover label.sk-toggleable__label-arrow:before {color: black;}#sk-container-id-1 div.sk-toggleable__content {max-height: 0;max-width: 0;overflow: hidden;text-align: left;background-color: #f0f8ff;}#sk-container-id-1 div.sk-toggleable__content pre {margin: 0.2em;color: black;border-radius: 0.25em;background-color: #f0f8ff;}#sk-container-id-1 input.sk-toggleable__control:checked~div.sk-toggleable__content {max-height: 200px;max-width: 100%;overflow: auto;}#sk-container-id-1 input.sk-toggleable__control:checked~label.sk-toggleable__label-arrow:before {content: \"▾\";}#sk-container-id-1 div.sk-estimator input.sk-toggleable__control:checked~label.sk-toggleable__label {background-color: #d4ebff;}#sk-container-id-1 div.sk-label input.sk-toggleable__control:checked~label.sk-toggleable__label {background-color: #d4ebff;}#sk-container-id-1 input.sk-hidden--visually {border: 0;clip: rect(1px 1px 1px 1px);clip: rect(1px, 1px, 1px, 1px);height: 1px;margin: -1px;overflow: hidden;padding: 0;position: absolute;width: 1px;}#sk-container-id-1 div.sk-estimator {font-family: monospace;background-color: #f0f8ff;border: 1px dotted black;border-radius: 0.25em;box-sizing: border-box;margin-bottom: 0.5em;}#sk-container-id-1 div.sk-estimator:hover {background-color: #d4ebff;}#sk-container-id-1 div.sk-parallel-item::after {content: \"\";width: 100%;border-bottom: 1px solid gray;flex-grow: 1;}#sk-container-id-1 div.sk-label:hover label.sk-toggleable__label {background-color: #d4ebff;}#sk-container-id-1 div.sk-serial::before {content: \"\";position: absolute;border-left: 1px solid gray;box-sizing: border-box;top: 0;bottom: 0;left: 50%;z-index: 0;}#sk-container-id-1 div.sk-serial {display: flex;flex-direction: column;align-items: center;background-color: white;padding-right: 0.2em;padding-left: 0.2em;position: relative;}#sk-container-id-1 div.sk-item {position: relative;z-index: 1;}#sk-container-id-1 div.sk-parallel {display: flex;align-items: stretch;justify-content: center;background-color: white;position: relative;}#sk-container-id-1 div.sk-item::before, #sk-container-id-1 div.sk-parallel-item::before {content: \"\";position: absolute;border-left: 1px solid gray;box-sizing: border-box;top: 0;bottom: 0;left: 50%;z-index: -1;}#sk-container-id-1 div.sk-parallel-item {display: flex;flex-direction: column;z-index: 1;position: relative;background-color: white;}#sk-container-id-1 div.sk-parallel-item:first-child::after {align-self: flex-end;width: 50%;}#sk-container-id-1 div.sk-parallel-item:last-child::after {align-self: flex-start;width: 50%;}#sk-container-id-1 div.sk-parallel-item:only-child::after {width: 0;}#sk-container-id-1 div.sk-dashed-wrapped {border: 1px dashed gray;margin: 0 0.4em 0.5em 0.4em;box-sizing: border-box;padding-bottom: 0.4em;background-color: white;}#sk-container-id-1 div.sk-label label {font-family: monospace;font-weight: bold;display: inline-block;line-height: 1.2em;}#sk-container-id-1 div.sk-label-container {text-align: center;}#sk-container-id-1 div.sk-container {/* jupyter's `normalize.less` sets `[hidden] { display: none; }` but bootstrap.min.css set `[hidden] { display: none !important; }` so we also need the `!important` here to be able to override the default hidden behavior on the sphinx rendered scikit-learn.org. See: https://github.com/scikit-learn/scikit-learn/issues/21755 */display: inline-block !important;position: relative;}#sk-container-id-1 div.sk-text-repr-fallback {display: none;}</style><div id=\"sk-container-id-1\" class=\"sk-top-container\"><div class=\"sk-text-repr-fallback\"><pre>LatentDirichletAllocation(learning_method=&#x27;online&#x27;, learning_offset=50.0,\n",
       "                          max_iter=50, random_state=0)</pre><b>In a Jupyter environment, please rerun this cell to show the HTML representation or trust the notebook. <br />On GitHub, the HTML representation is unable to render, please try loading this page with nbviewer.org.</b></div><div class=\"sk-container\" hidden><div class=\"sk-item\"><div class=\"sk-estimator sk-toggleable\"><input class=\"sk-toggleable__control sk-hidden--visually\" id=\"sk-estimator-id-1\" type=\"checkbox\" checked><label for=\"sk-estimator-id-1\" class=\"sk-toggleable__label sk-toggleable__label-arrow\">LatentDirichletAllocation</label><div class=\"sk-toggleable__content\"><pre>LatentDirichletAllocation(learning_method=&#x27;online&#x27;, learning_offset=50.0,\n",
       "                          max_iter=50, random_state=0)</pre></div></div></div></div></div>"
      ],
      "text/plain": [
       "LatentDirichletAllocation(learning_method='online', learning_offset=50.0,\n",
       "                          max_iter=50, random_state=0)"
      ]
     },
     "execution_count": 10,
     "metadata": {},
     "output_type": "execute_result"
    }
   ],
   "source": [
    "lda.fit(tf)"
   ]
  },
  {
   "cell_type": "code",
   "execution_count": 11,
   "metadata": {},
   "outputs": [],
   "source": [
    "def print_top_words(model, feature_names, n_top_words):\n",
    "    for topic_idx, topic in enumerate(model.components_):\n",
    "        print(\"Topic #%d:\" % topic_idx)\n",
    "        print(\" \".join([feature_names[i]\n",
    "                        for i in topic.argsort()[:-n_top_words - 1:-1]]))\n",
    "    print()"
   ]
  },
  {
   "cell_type": "code",
   "execution_count": 12,
   "metadata": {},
   "outputs": [
    {
     "name": "stdout",
     "output_type": "stream",
     "text": [
      "Topic #0:\n",
      "所述 制备 催化剂 材料 具有 金属 应用 组分 表面 公开 提供 涉及 sup 活性 10 载体 性能 重量 分子筛 得到\n",
      "Topic #1:\n",
      "显示 所述 信号 基板 电路 发光 区域 位于 至少 储能 显示装置 光伏 提供 充电 控制 设置 方向 导电 晶体管 电池\n",
      "Topic #2:\n",
      "测量 进行 步骤 地震 压力 确定 数据 模拟 计算 储层 曲线 频率 地层 试验 提供 参数 速度 不同 测井 注入\n",
      "Topic #3:\n",
      "模型 预测 计算 进行 优化 负荷 参数 得到 确定 评价 构建 数据 建立 步骤 评估 功率 目标 系统 配电网 指标\n",
      "Topic #4:\n",
      "sub 电压 电极 衬底 结构 电流 器件 形成 线路 栅极 输电 基底 隔离 半导体 用电 介质 配电 放电 电阻 烟气\n",
      "Topic #5:\n",
      "数据 所述 信息 进行 目标 像素 设备 获取 图像 确定 对应 装置 终端 用户 电力 提供 得到 申请 处理 公开\n",
      "Topic #6:\n",
      "所述 连接 设置 装置 组件 安装 驱动 固定 机构 结构 设有 面板 用于 支撑 之间 一侧 能够 公开 移动 转动\n",
      "Topic #7:\n",
      "技术 进行 涉及 领域 问题 解决 实现 提高 采用 现有 过程 生产 加工 工艺 属于 有效 降低 能够 作业 提供\n",
      "Topic #8:\n",
      "进行 反应 得到 处理 所述 混合 装置 分离 气体 反应器 加氢 步骤 加热 系统 循环 公开 催化剂 原料 进入 出口\n",
      "Topic #9:\n",
      "模块 系统 单元 控制 检测 装置 运行 故障 用于 电网 状态 监测 进行 设备 测试 输出 实现 连接 采集 传感器\n",
      "\n"
     ]
    }
   ],
   "source": [
    "n_top_words = 20  \n",
    "tf_feature_names = tf_vectorizer.get_feature_names_out()\n",
    "# tf_feature_names = tf_vectorizer.get_feature_names_out() 新版本sklern\n",
    "print_top_words(lda, tf_feature_names, n_top_words)"
   ]
  },
  {
   "cell_type": "code",
   "execution_count": 13,
   "metadata": {},
   "outputs": [
    {
     "name": "stdout",
     "output_type": "stream",
     "text": [
      "Serving to http://127.0.0.1:8888/    [Ctrl-C to exit]\n"
     ]
    },
    {
     "name": "stderr",
     "output_type": "stream",
     "text": [
      "127.0.0.1 - - [02/Nov/2023 03:31:48] \"GET / HTTP/1.1\" 200 -\n"
     ]
    }
   ],
   "source": [
    "data = pyLDAvis.lda_model.prepare(lda, tf, tf_vectorizer)\n",
    "pyLDAvis.show(data, local=False)#local=False避免报错，会在显示器打开"
   ]
  }
 ],
 "metadata": {
  "kernelspec": {
   "display_name": "Python 3",
   "language": "python",
   "name": "python3"
  },
  "language_info": {
   "codemirror_mode": {
    "name": "ipython",
    "version": 3
   },
   "file_extension": ".py",
   "mimetype": "text/x-python",
   "name": "python",
   "nbconvert_exporter": "python",
   "pygments_lexer": "ipython3",
   "version": "3.9.17"
  }
 },
 "nbformat": 4,
 "nbformat_minor": 2
}
